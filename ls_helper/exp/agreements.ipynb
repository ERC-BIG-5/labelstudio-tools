{
 "cells": [
  {
   "metadata": {
    "ExecuteTime": {
     "end_time": "2025-04-23T12:14:44.621961Z",
     "start_time": "2025-04-23T12:14:43.510069Z"
    }
   },
   "cell_type": "code",
   "source": [
    "from ls_helper.models.main_models import ProjectData, get_project\n",
    "\n",
    "twitter = \"twitter\"\n",
    "es = \"es\"\n",
    "tw_es = {\"platform\": twitter, \"language\": es}\n",
    "_default = tw_es\n",
    "\n",
    "po: ProjectData = get_project(**_default)"
   ],
   "id": "511d544f23c9cfc5",
   "outputs": [
    {
     "name": "stdout",
     "output_type": "stream",
     "text": [
      "2025-04-23 14:14:44,619 - ls_helper.models.main_models - INFO - 51/twitter-es-4/twitter/es\n"
     ]
    }
   ],
   "execution_count": 1
  },
  {
   "metadata": {
    "ExecuteTime": {
     "end_time": "2025-04-23T12:14:47.786430Z",
     "start_time": "2025-04-23T12:14:46.374590Z"
    }
   },
   "cell_type": "code",
   "source": "ann_res = po.get_raw_annotations_results()",
   "id": "b9883b1bde9fdce7",
   "outputs": [
    {
     "name": "stdout",
     "output_type": "stream",
     "text": [
      "Get recent, gets latest annotation: 0423_1248\n"
     ]
    }
   ],
   "execution_count": 2
  },
  {
   "metadata": {
    "ExecuteTime": {
     "end_time": "2025-04-23T12:14:51.671374Z",
     "start_time": "2025-04-23T12:14:47.802633Z"
    }
   },
   "cell_type": "code",
   "source": [
    "from main import agreements\n",
    "from ls_helper.fresh_agreements import AgreementResult, Agreements\n",
    "count_vars = [\"nature_any\"]\n",
    "\n",
    "fp, agreements = agreements(**tw_es, variables=count_vars)\n",
    "agreements: Agreements = agreements\n",
    "agg: dict[str,AgreementResult] = po.get_agreement_data()"
   ],
   "id": "e28483245bfb2097",
   "outputs": [
    {
     "name": "stdout",
     "output_type": "stream",
     "text": [
      "2025-04-23 14:14:47,915 - ls_helper.models.main_models - INFO - 51/twitter-es-4/twitter/es\n",
      "Get recent, gets latest annotation: 0423_1248\n",
      "Get recent, gets latest annotation: 0423_1248\n",
      "nature_any 2219\n",
      "2025-04-23 14:14:50,976 - ls_helper.fresh_agreements - WARNING - df before dropping unfinished tasks: 2219\n",
      "2025-04-23 14:14:50,978 - ls_helper.fresh_agreements - WARNING - df before dropping unfinished tasks: 2219\n",
      "2025-04-23 14:14:51,630 - ls_helper.models.main_models - INFO - agreement-results: data/ls_data/agreements/51.csv\n"
     ]
    }
   ],
   "execution_count": 3
  },
  {
   "metadata": {
    "ExecuteTime": {
     "end_time": "2025-04-23T12:14:53.623561Z",
     "start_time": "2025-04-23T12:14:53.610913Z"
    }
   },
   "cell_type": "code",
   "source": "agg",
   "id": "1adc57b3b5b0e3cb",
   "outputs": [
    {
     "data": {
      "text/plain": [
       "{'nature_any': AgreementResult(variable='nature_any', single_overall={'gwet': 0.86, 'ratio': 0.9, 'abs': 1003.0, 'total': 1109.0}, options_agreements={'No': {'gwet': 0.87, 'ratio': 0.89, 'abs': 838.0, 'total': 944.0}, 'Yes': {'gwet': 0.43, 'ratio': 0.61, 'abs': 165.0, 'total': 271.0}})}"
      ]
     },
     "execution_count": 4,
     "metadata": {},
     "output_type": "execute_result"
    }
   ],
   "execution_count": 4
  },
  {
   "metadata": {
    "ExecuteTime": {
     "end_time": "2025-04-23T12:14:55.444087Z",
     "start_time": "2025-04-23T12:14:55.418134Z"
    }
   },
   "cell_type": "code",
   "source": [
    "from ls_helper.my_labelstudio_client.models import AnnotationResult\n",
    "\n",
    "\n",
    "counts = {}\n",
    "\n",
    "for task_res in ann_res.task_results:\n",
    "    found_options = set()\n",
    "    for ann in task_res.annotations:\n",
    "        missing_vars = count_vars[:]\n",
    "        if ann.was_cancelled:\n",
    "            continue\n",
    "        for res in ann.result:\n",
    "            res: AnnotationResult\n",
    "            variable = res.from_name\n",
    "            if variable in count_vars:\n",
    "                options_counts = counts.setdefault(variable, {})\n",
    "                values = res.value.direct_value\n",
    "                if not values:\n",
    "                    found_options.update([\"NONE\"])\n",
    "                else:\n",
    "                    found_options.update(values)\n",
    "                missing_vars.remove(variable)\n",
    "        if missing_vars:\n",
    "            print(f\"{task_res.id}/{ann.id}/- {missing_vars}\")\n",
    "    for option in found_options:\n",
    "        options_counts[option] = options_counts.setdefault(option, 0) + 1\n",
    "\n",
    "\n"
   ],
   "id": "9cae2448c7e7de8",
   "outputs": [],
   "execution_count": 5
  },
  {
   "metadata": {
    "ExecuteTime": {
     "end_time": "2025-04-23T12:14:56.743963Z",
     "start_time": "2025-04-23T12:14:56.738453Z"
    }
   },
   "cell_type": "code",
   "source": [
    "for var,var_opt_counts in counts.items():\n",
    "    for option,count in var_opt_counts.items():\n",
    "        if count != (tot_calc := agg[var].options_agreements[option][\"total\"]):\n",
    "            print(f\"{var}/{option}: calc: {tot_calc}, count: {count}\")"
   ],
   "id": "725bd8432fa2f677",
   "outputs": [],
   "execution_count": 6
  },
  {
   "metadata": {
    "ExecuteTime": {
     "end_time": "2025-04-23T12:04:15.298836Z",
     "start_time": "2025-04-23T12:04:15.261080Z"
    }
   },
   "cell_type": "code",
   "source": [
    "# I get: nature_any/Yes: calc: 270.0, count: 271, so lets investigate\n",
    "nature_any_df = agreements.select_variables([\"nature_any\"], always_as_dict=False).copy()\n",
    "nature_any_df.head()\n",
    "nature_any_df = nature_any_df.value.explode()\n",
    "nature_any_df_yes = nature_any_df[nature_any_df == \"Yes\"]\n",
    "nature_any_df_yes.reset_index()[\"task_id\"].nunique()"
   ],
   "id": "e06376b875a2db2",
   "outputs": [
    {
     "data": {
      "text/plain": [
       "271"
      ]
     },
     "execution_count": 21,
     "metadata": {},
     "output_type": "execute_result"
    }
   ],
   "execution_count": 21
  },
  {
   "metadata": {},
   "cell_type": "code",
   "outputs": [],
   "execution_count": null,
   "source": [
    "# well ok, that also gives us the 271.\n",
    "# check:\n",
    "# 1. check unfinished drops tasks? unlikely.. well actually, that was it...!\n"
   ],
   "id": "d96a259c9ab77f23"
  },
  {
   "metadata": {},
   "cell_type": "code",
   "outputs": [],
   "execution_count": null,
   "source": [
    "occurances = {} #var,option,tuple[task_id,user_id]\n",
    "\n",
    "for task_res in ann_res.task_results:\n",
    "    found_options = set()\n",
    "    for ann in task_res.annotations:\n",
    "        missing_vars = count_vars[:]\n",
    "        if ann.was_cancelled:\n",
    "            continue\n",
    "        for res in ann.result:\n",
    "            res: AnnotationResult\n",
    "            variable = res.from_name\n",
    "            if variable in count_vars:\n",
    "                options_counts = counts.setdefault(variable, {})\n",
    "                values = res.value.direct_value\n",
    "                if not values:\n",
    "                    found_options.update([\"NONE\"])\n",
    "                else:\n",
    "                    found_options.update(values)\n",
    "                missing_vars.remove(variable)\n",
    "        if missing_vars:\n",
    "            print(f\"{task_res.id}/{ann.id}/- {missing_vars}\")\n",
    "    for option in found_options:\n",
    "        options_counts[option] = options_counts.setdefault(option, 0) + 1\n"
   ],
   "id": "60e1a6a629b107ba"
  }
 ],
 "metadata": {
  "kernelspec": {
   "display_name": "Python 3",
   "language": "python",
   "name": "python3"
  },
  "language_info": {
   "codemirror_mode": {
    "name": "ipython",
    "version": 2
   },
   "file_extension": ".py",
   "mimetype": "text/x-python",
   "name": "python",
   "nbconvert_exporter": "python",
   "pygments_lexer": "ipython2",
   "version": "2.7.6"
  }
 },
 "nbformat": 4,
 "nbformat_minor": 5
}
