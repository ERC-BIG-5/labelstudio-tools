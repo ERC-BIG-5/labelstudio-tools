{
 "cells": [
  {
   "metadata": {},
   "cell_type": "code",
   "outputs": [],
   "execution_count": null,
   "source": [
    "from ls_helper.models.main_models import ProjectData, get_p_access, platforms_overview\n",
    "\n",
    "twitter = \"twitter\"\n",
    "en = \"en\"\n",
    "tw_en = {\"platform\": twitter, \"language\": en}\n",
    "_default = tw_en\n",
    "\n",
    "po: ProjectData = platforms_overview.get_project(get_p_access(**_default))"
   ],
   "id": "8e5e645e4600ef50"
  },
  {
   "metadata": {},
   "cell_type": "code",
   "outputs": [],
   "execution_count": null,
   "source": "aggree = po.get_agreement_data()",
   "id": "9bcb90e5ddaaa500"
  },
  {
   "metadata": {},
   "cell_type": "code",
   "outputs": [],
   "execution_count": null,
   "source": [
    "single_vis = aggree.agreement_metrics.single_choice.variables[\n",
    "    \"nep_materiality_visual\"\n",
    "]"
   ],
   "id": "da8d44528ed2114e"
  },
  {
   "metadata": {},
   "cell_type": "code",
   "outputs": [],
   "execution_count": null,
   "source": "single_vis.model_dump(exclude={\"conflicts\"})",
   "id": "52dc92b9756f04f6"
  },
  {
   "metadata": {},
   "cell_type": "code",
   "outputs": [],
   "execution_count": null,
   "source": [
    "mp = po.get_raw_annotations_results(accepted_ann_age=20)\n",
    "rdf_ = mp.raw_annotation_df"
   ],
   "id": "9aff68eecd998a9c"
  },
  {
   "metadata": {},
   "cell_type": "code",
   "outputs": [],
   "execution_count": null,
   "source": "rdf = rdf_.copy()",
   "id": "a103638b657f37f3"
  },
  {
   "metadata": {},
   "cell_type": "code",
   "outputs": [],
   "execution_count": null,
   "source": [
    "multi_annotator_tasks = rdf.groupby(\"task_id\")[\"ann_id\"].nunique()\n",
    "multi_annotator_tasks = multi_annotator_tasks[multi_annotator_tasks > 1].index\n",
    "\n",
    "# Filter raw dataframe\n",
    "filtered_df = rdf[rdf[\"task_id\"].isin(multi_annotator_tasks)]\n",
    "\n",
    "# Filter for nep_materiality_visual with all indices\n",
    "nep_mv_filtered = filtered_df[\n",
    "    filtered_df[\"category\"].str.match(r\"nep_materiality_visual_\\d+\")\n",
    "]\n",
    "\n",
    "# Count total rows after filtering\n",
    "print(\n",
    "    f\"Total nep_materiality_visual rows after filtering: {len(nep_mv_filtered)}\"\n",
    ")\n",
    "\n",
    "# Extract and count options (assuming values are stored as lists)\n",
    "# This handles values stored as lists ['option']\n",
    "nep_mv_filtered[\"option\"] = nep_mv_filtered[\"value\"].apply(\n",
    "    lambda x: x[0] if isinstance(x, list) and len(x) > 0 else x\n",
    ")\n",
    "\n",
    "# Count by option\n",
    "option_counts = nep_mv_filtered[\"option\"].value_counts()\n",
    "print(f\"Option counts:\\n{option_counts}\")\n",
    "\n",
    "# Sum of material and immaterial options\n",
    "if \"material\" in option_counts and \"immaterial\" in option_counts:\n",
    "    total = option_counts[\"material\"] + option_counts[\"immaterial\"]\n",
    "    print(f\"Sum of material + immaterial: {total}\")"
   ],
   "id": "a342212ddae3c343"
  },
  {
   "metadata": {},
   "cell_type": "code",
   "outputs": [],
   "execution_count": null,
   "source": [
    "nep_mv = rdf[\n",
    "    rdf[\"category\"].isin([f\"nep_materiality_visual_{i}\" for i in range(0, 4)])\n",
    "]\n",
    "len(nep_mv)"
   ],
   "id": "9496e53a46054277"
  },
  {
   "metadata": {},
   "cell_type": "code",
   "outputs": [],
   "execution_count": null,
   "source": "len(nep_mv)",
   "id": "24c7ebd13e8becd0"
  },
  {
   "metadata": {},
   "cell_type": "code",
   "outputs": [],
   "execution_count": null,
   "source": [
    "(\n",
    "    single_vis.option_results[\"material\"].total_selections\n",
    "    + single_vis.option_results[\"immaterial\"].total_selections\n",
    ")"
   ],
   "id": "6fa28dcca64eb208"
  },
  {
   "metadata": {},
   "cell_type": "code",
   "outputs": [],
   "execution_count": null,
   "source": "",
   "id": "d96e13123f766951"
  }
 ],
 "metadata": {
  "kernelspec": {
   "display_name": "Python 3",
   "language": "python",
   "name": "python3"
  },
  "language_info": {
   "codemirror_mode": {
    "name": "ipython",
    "version": 2
   },
   "file_extension": ".py",
   "mimetype": "text/x-python",
   "name": "python",
   "nbconvert_exporter": "python",
   "pygments_lexer": "ipython2",
   "version": "2.7.6"
  }
 },
 "nbformat": 4,
 "nbformat_minor": 5
}
