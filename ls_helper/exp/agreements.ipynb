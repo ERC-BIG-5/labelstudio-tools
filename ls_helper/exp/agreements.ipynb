{
 "cells": [
  {
   "metadata": {
    "ExecuteTime": {
     "end_time": "2025-04-23T14:22:54.892041Z",
     "start_time": "2025-04-23T14:22:54.883372Z"
    }
   },
   "cell_type": "code",
   "source": [
    "from ls_helper.models.main_models import ProjectData, get_project\n",
    "\n",
    "twitter = \"twitter\"\n",
    "es = \"es\"\n",
    "tw_es = {\"platform\": twitter, \"language\": es}\n",
    "_default = tw_es\n",
    "\n",
    "po: ProjectData = get_project(**_default)"
   ],
   "id": "511d544f23c9cfc5",
   "outputs": [
    {
     "name": "stdout",
     "output_type": "stream",
     "text": [
      "2025-04-23 16:22:54,886 - ls_helper.models.main_models - INFO - 51/twitter-es-4/twitter/es\n"
     ]
    }
   ],
   "execution_count": 4
  },
  {
   "metadata": {
    "ExecuteTime": {
     "end_time": "2025-04-23T14:22:57.005663Z",
     "start_time": "2025-04-23T14:22:55.725376Z"
    }
   },
   "cell_type": "code",
   "source": "ann_res = po.get_raw_annotations_results()",
   "id": "b9883b1bde9fdce7",
   "outputs": [
    {
     "name": "stdout",
     "output_type": "stream",
     "text": [
      "Get recent, gets latest annotation: 0423_1248\n"
     ]
    }
   ],
   "execution_count": 5
  },
  {
   "metadata": {
    "ExecuteTime": {
     "end_time": "2025-04-23T14:25:11.490790Z",
     "start_time": "2025-04-23T14:23:59.507598Z"
    }
   },
   "cell_type": "code",
   "source": [
    "from main import agreements\n",
    "from ls_helper.fresh_agreements import AgreementResult, Agreements\n",
    "count_vars = [\"nature_visual\"]\n",
    "\n",
    "fp, agreements = agreements(**tw_es, variables=count_vars)\n",
    "agreements: Agreements = agreements\n",
    "agg: dict[str,AgreementResult] = po.get_agreement_data()"
   ],
   "id": "e28483245bfb2097",
   "outputs": [
    {
     "name": "stdout",
     "output_type": "stream",
     "text": [
      "2025-04-23 16:23:59,518 - ls_helper.models.main_models - INFO - 51/twitter-es-4/twitter/es\n",
      "Get recent, gets latest annotation: 0423_1248\n",
      "Get recent, gets latest annotation: 0423_1248\n",
      "2025-04-23 16:24:02,842 - ls_helper.fresh_agreements - INFO - dropped unfinished tasks: 1\n",
      "2025-04-23 16:24:02,844 - ls_helper.fresh_agreements - DEBUG - dropped tasks: {33891}\n",
      "nature_visual 8872\n"
     ]
    },
    {
     "ename": "KeyError",
     "evalue": "'nature_visual'",
     "output_type": "error",
     "traceback": [
      "\u001B[31m---------------------------------------------------------------------------\u001B[39m",
      "\u001B[31mKeyError\u001B[39m                                  Traceback (most recent call last)",
      "\u001B[36mCell\u001B[39m\u001B[36m \u001B[39m\u001B[32mIn[7]\u001B[39m\u001B[32m, line 5\u001B[39m\n\u001B[32m      2\u001B[39m \u001B[38;5;28;01mfrom\u001B[39;00m\u001B[38;5;250m \u001B[39m\u001B[34;01mls_helper\u001B[39;00m\u001B[34;01m.\u001B[39;00m\u001B[34;01mfresh_agreements\u001B[39;00m\u001B[38;5;250m \u001B[39m\u001B[38;5;28;01mimport\u001B[39;00m AgreementResult, Agreements\n\u001B[32m      3\u001B[39m count_vars = [\u001B[33m\"\u001B[39m\u001B[33mnature_visual\u001B[39m\u001B[33m\"\u001B[39m]\n\u001B[32m----> \u001B[39m\u001B[32m5\u001B[39m fp, agreements = \u001B[43magreements\u001B[49m\u001B[43m(\u001B[49m\u001B[43m*\u001B[49m\u001B[43m*\u001B[49m\u001B[43mtw_es\u001B[49m\u001B[43m,\u001B[49m\u001B[43m \u001B[49m\u001B[43mvariables\u001B[49m\u001B[43m=\u001B[49m\u001B[43mcount_vars\u001B[49m\u001B[43m)\u001B[49m\n\u001B[32m      6\u001B[39m agreements: Agreements = agreements\n\u001B[32m      7\u001B[39m agg: \u001B[38;5;28mdict\u001B[39m[\u001B[38;5;28mstr\u001B[39m,AgreementResult] = po.get_agreement_data()\n",
      "\u001B[36mFile \u001B[39m\u001B[32m~/projects/big5/labelstudio-tools/main.py:420\u001B[39m, in \u001B[36magreements\u001B[39m\u001B[34m(id, alias, platform, language, accepted_ann_age, max_num_coders, variables)\u001B[39m\n\u001B[32m    394\u001B[39m \u001B[38;5;129m@app\u001B[39m.command(short_help=\u001B[33m\"\u001B[39m\u001B[33m[stats] calculate general agreements stats\u001B[39m\u001B[33m\"\u001B[39m)\n\u001B[32m    395\u001B[39m \u001B[38;5;28;01mdef\u001B[39;00m\u001B[38;5;250m \u001B[39m\u001B[34magreements\u001B[39m(\n\u001B[32m    396\u001B[39m     \u001B[38;5;28mid\u001B[39m: Annotated[Optional[\u001B[38;5;28mint\u001B[39m], typer.Option()] = \u001B[38;5;28;01mNone\u001B[39;00m,\n\u001B[32m   (...)\u001B[39m\u001B[32m    404\u001B[39m     variables: Annotated[Optional[\u001B[38;5;28mlist\u001B[39m[\u001B[38;5;28mstr\u001B[39m]], typer.Argument()] = \u001B[38;5;28;01mNone\u001B[39;00m,\n\u001B[32m    405\u001B[39m ) -> \u001B[38;5;28mtuple\u001B[39m[Path, Agreements]:\n\u001B[32m    406\u001B[39m \u001B[38;5;250m    \u001B[39m\u001B[33;03m\"\"\"\u001B[39;00m\n\u001B[32m    407\u001B[39m \n\u001B[32m    408\u001B[39m \u001B[33;03m    :param id:\u001B[39;00m\n\u001B[32m   (...)\u001B[39m\u001B[32m    415\u001B[39m \u001B[33;03m    :return:\u001B[39;00m\n\u001B[32m    416\u001B[39m \u001B[33;03m    \"\"\"\u001B[39;00m\n\u001B[32m    417\u001B[39m     dest, agreement = (\n\u001B[32m    418\u001B[39m         \u001B[43mget_project\u001B[49m\u001B[43m(\u001B[49m\u001B[38;5;28;43mid\u001B[39;49m\u001B[43m,\u001B[49m\u001B[43m \u001B[49m\u001B[43malias\u001B[49m\u001B[43m,\u001B[49m\u001B[43m \u001B[49m\u001B[43mplatform\u001B[49m\u001B[43m,\u001B[49m\u001B[43m \u001B[49m\u001B[43mlanguage\u001B[49m\u001B[43m)\u001B[49m\n\u001B[32m    419\u001B[39m \u001B[43m        \u001B[49m\u001B[43m.\u001B[49m\u001B[43mget_annotations_results\u001B[49m\u001B[43m(\u001B[49m\u001B[43maccepted_ann_age\u001B[49m\u001B[43m=\u001B[49m\u001B[43maccepted_ann_age\u001B[49m\u001B[43m)\u001B[49m\n\u001B[32m--> \u001B[39m\u001B[32m420\u001B[39m \u001B[43m        \u001B[49m\u001B[43m.\u001B[49m\u001B[43mget_coder_agreements\u001B[49m\u001B[43m(\u001B[49m\u001B[43mmax_num_coders\u001B[49m\u001B[43m,\u001B[49m\u001B[43m \u001B[49m\u001B[43mvariables\u001B[49m\u001B[43m,\u001B[49m\u001B[43m \u001B[49m\u001B[38;5;28;43;01mTrue\u001B[39;49;00m\u001B[43m)\u001B[49m\n\u001B[32m    421\u001B[39m     )\n\u001B[32m    423\u001B[39m     \u001B[38;5;28;01mreturn\u001B[39;00m dest, agreement\n",
      "\u001B[36mFile \u001B[39m\u001B[32m~/projects/big5/labelstudio-tools/ls_helper/models/main_models.py:885\u001B[39m, in \u001B[36mProjectResult.get_coder_agreements\u001B[39m\u001B[34m(self, max_num_coders, variables, gen_csv_tables)\u001B[39m\n\u001B[32m    882\u001B[39m \u001B[38;5;28;01mfrom\u001B[39;00m\u001B[38;5;250m \u001B[39m\u001B[34;01mls_helper\u001B[39;00m\u001B[34;01m.\u001B[39;00m\u001B[34;01mfresh_agreements\u001B[39;00m\u001B[38;5;250m \u001B[39m\u001B[38;5;28;01mimport\u001B[39;00m Agreements\n\u001B[32m    884\u001B[39m ag = Agreements(\u001B[38;5;28mself\u001B[39m.project_data)\n\u001B[32m--> \u001B[39m\u001B[32m885\u001B[39m \u001B[43mag\u001B[49m\u001B[43m.\u001B[49m\u001B[43magreement_calc\u001B[49m\u001B[43m(\u001B[49m\u001B[43mvariables\u001B[49m\u001B[43m,\u001B[49m\u001B[43m \u001B[49m\u001B[43mmax_coders\u001B[49m\u001B[43m=\u001B[49m\u001B[43mmax_num_coders\u001B[49m\u001B[43m)\u001B[49m\n\u001B[32m    887\u001B[39m dest = \u001B[38;5;28mself\u001B[39m.project_data.store_agreement_report(ag, gen_csv_tables)\n\u001B[32m    888\u001B[39m logger.info(\u001B[33mf\u001B[39m\u001B[33m\"\u001B[39m\u001B[33magreement-results: \u001B[39m\u001B[38;5;132;01m{\u001B[39;00mdest.as_posix()\u001B[38;5;132;01m}\u001B[39;00m\u001B[33m\"\u001B[39m)\n",
      "\u001B[36mFile \u001B[39m\u001B[32m~/projects/big5/labelstudio-tools/ls_helper/fresh_agreements.py:310\u001B[39m, in \u001B[36mAgreements.agreement_calc\u001B[39m\u001B[34m(self, variables, force_default, max_coders, agreement_types, keep_tasks)\u001B[39m\n\u001B[32m    307\u001B[39m \u001B[38;5;28;01mif\u001B[39;00m \u001B[33m\"\u001B[39m\u001B[33mvariable\u001B[39m\u001B[33m\"\u001B[39m \u001B[38;5;129;01min\u001B[39;00m v_df.columns:\n\u001B[32m    308\u001B[39m     v_df = v_df.drop(\u001B[33m\"\u001B[39m\u001B[33mvariable\u001B[39m\u001B[33m\"\u001B[39m, axis=\u001B[32m1\u001B[39m)\n\u001B[32m--> \u001B[39m\u001B[32m310\u001B[39m options = \u001B[43mpo_variables\u001B[49m\u001B[43m[\u001B[49m\u001B[43mvar\u001B[49m\u001B[43m]\u001B[49m.options\n\u001B[32m    311\u001B[39m \u001B[38;5;28;01mif\u001B[39;00m v_df.empty:\n\u001B[32m    312\u001B[39m     \u001B[38;5;28;01mcontinue\u001B[39;00m\n",
      "\u001B[31mKeyError\u001B[39m: 'nature_visual'"
     ]
    }
   ],
   "execution_count": 7
  },
  {
   "metadata": {
    "ExecuteTime": {
     "end_time": "2025-04-23T12:14:53.623561Z",
     "start_time": "2025-04-23T12:14:53.610913Z"
    }
   },
   "cell_type": "code",
   "source": "agg",
   "id": "1adc57b3b5b0e3cb",
   "outputs": [
    {
     "data": {
      "text/plain": [
       "{'nature_any': AgreementResult(variable='nature_any', single_overall={'gwet': 0.86, 'ratio': 0.9, 'abs': 1003.0, 'total': 1109.0}, options_agreements={'No': {'gwet': 0.87, 'ratio': 0.89, 'abs': 838.0, 'total': 944.0}, 'Yes': {'gwet': 0.43, 'ratio': 0.61, 'abs': 165.0, 'total': 271.0}})}"
      ]
     },
     "execution_count": 4,
     "metadata": {},
     "output_type": "execute_result"
    }
   ],
   "execution_count": 4
  },
  {
   "metadata": {
    "ExecuteTime": {
     "end_time": "2025-04-23T12:14:55.444087Z",
     "start_time": "2025-04-23T12:14:55.418134Z"
    }
   },
   "cell_type": "code",
   "source": [
    "from ls_helper.my_labelstudio_client.models import AnnotationResult\n",
    "\n",
    "\n",
    "counts = {}\n",
    "\n",
    "for task_res in ann_res.task_results:\n",
    "    found_options = set()\n",
    "    for ann in task_res.annotations:\n",
    "        missing_vars = count_vars[:]\n",
    "        if ann.was_cancelled:\n",
    "            continue\n",
    "        for res in ann.result:\n",
    "            res: AnnotationResult\n",
    "            variable = res.from_name\n",
    "            if variable in count_vars:\n",
    "                options_counts = counts.setdefault(variable, {})\n",
    "                values = res.value.direct_value\n",
    "                if not values:\n",
    "                    found_options.update([\"NONE\"])\n",
    "                else:\n",
    "                    found_options.update(values)\n",
    "                missing_vars.remove(variable)\n",
    "        if missing_vars:\n",
    "            print(f\"{task_res.id}/{ann.id}/- {missing_vars}\")\n",
    "    for option in found_options:\n",
    "        options_counts[option] = options_counts.setdefault(option, 0) + 1\n",
    "\n",
    "\n"
   ],
   "id": "9cae2448c7e7de8",
   "outputs": [],
   "execution_count": 5
  },
  {
   "metadata": {
    "ExecuteTime": {
     "end_time": "2025-04-23T12:14:56.743963Z",
     "start_time": "2025-04-23T12:14:56.738453Z"
    }
   },
   "cell_type": "code",
   "source": [
    "for var,var_opt_counts in counts.items():\n",
    "    for option,count in var_opt_counts.items():\n",
    "        if count != (tot_calc := agg[var].options_agreements[option][\"total\"]):\n",
    "            print(f\"{var}/{option}: calc: {tot_calc}, count: {count}\")"
   ],
   "id": "725bd8432fa2f677",
   "outputs": [],
   "execution_count": 6
  },
  {
   "metadata": {
    "ExecuteTime": {
     "end_time": "2025-04-23T12:04:15.298836Z",
     "start_time": "2025-04-23T12:04:15.261080Z"
    }
   },
   "cell_type": "code",
   "source": [
    "# I get: nature_any/Yes: calc: 270.0, count: 271, so lets investigate\n",
    "nature_any_df = agreements.select_variables([\"nature_any\"], always_as_dict=False).copy()\n",
    "nature_any_df.head()\n",
    "nature_any_df = nature_any_df.value.explode()\n",
    "nature_any_df_yes = nature_any_df[nature_any_df == \"Yes\"]\n",
    "nature_any_df_yes.reset_index()[\"task_id\"].nunique()"
   ],
   "id": "e06376b875a2db2",
   "outputs": [
    {
     "data": {
      "text/plain": [
       "271"
      ]
     },
     "execution_count": 21,
     "metadata": {},
     "output_type": "execute_result"
    }
   ],
   "execution_count": 21
  },
  {
   "metadata": {},
   "cell_type": "code",
   "outputs": [],
   "execution_count": null,
   "source": [
    "# well ok, that also gives us the 271.\n",
    "# check:\n",
    "# 1. check unfinished drops tasks? unlikely.. well actually, that was it...!\n"
   ],
   "id": "d96a259c9ab77f23"
  },
  {
   "metadata": {},
   "cell_type": "code",
   "outputs": [],
   "execution_count": null,
   "source": [
    "occurances = {} #var,option,tuple[task_id,user_id]\n",
    "\n",
    "for task_res in ann_res.task_results:\n",
    "    found_options = set()\n",
    "    for ann in task_res.annotations:\n",
    "        missing_vars = count_vars[:]\n",
    "        if ann.was_cancelled:\n",
    "            continue\n",
    "        for res in ann.result:\n",
    "            res: AnnotationResult\n",
    "            variable = res.from_name\n",
    "            if variable in count_vars:\n",
    "                options_counts = counts.setdefault(variable, {})\n",
    "                values = res.value.direct_value\n",
    "                if not values:\n",
    "                    found_options.update([\"NONE\"])\n",
    "                else:\n",
    "                    found_options.update(values)\n",
    "                missing_vars.remove(variable)\n",
    "        if missing_vars:\n",
    "            print(f\"{task_res.id}/{ann.id}/- {missing_vars}\")\n",
    "    for option in found_options:\n",
    "        options_counts[option] = options_counts.setdefault(option, 0) + 1\n"
   ],
   "id": "60e1a6a629b107ba"
  }
 ],
 "metadata": {
  "kernelspec": {
   "display_name": "Python 3",
   "language": "python",
   "name": "python3"
  },
  "language_info": {
   "codemirror_mode": {
    "name": "ipython",
    "version": 2
   },
   "file_extension": ".py",
   "mimetype": "text/x-python",
   "name": "python",
   "nbconvert_exporter": "python",
   "pygments_lexer": "ipython2",
   "version": "2.7.6"
  }
 },
 "nbformat": 4,
 "nbformat_minor": 5
}
