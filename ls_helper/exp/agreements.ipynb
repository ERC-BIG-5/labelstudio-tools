{
 "cells": [
  {
   "cell_type": "code",
   "id": "initial_id",
   "metadata": {
    "collapsed": true,
    "ExecuteTime": {
     "end_time": "2025-04-05T23:53:01.057211Z",
     "start_time": "2025-04-05T23:52:59.463728Z"
    }
   },
   "source": [
    "from ls_helper.new_models import get_p_access, platforms_overview2, ProjectData\n",
    "from ls_helper.settings import SETTINGS\n",
    "\n",
    "twitter = \"twitter\"\n",
    "en = \"en\"\n",
    "tw_en = {\"platform\": twitter, \"language\": en}\n",
    "_default = tw_en\n",
    "\n",
    "po: ProjectData = platforms_overview2.get_project(get_p_access(**_default))"
   ],
   "outputs": [],
   "execution_count": 1
  },
  {
   "metadata": {
    "ExecuteTime": {
     "end_time": "2025-04-05T23:53:02.783055Z",
     "start_time": "2025-04-05T23:53:02.777341Z"
    }
   },
   "cell_type": "code",
   "source": "po.get_agreement_data()",
   "id": "1f4b92da4f28a8dc",
   "outputs": [],
   "execution_count": 2
  },
  {
   "metadata": {},
   "cell_type": "code",
   "outputs": [],
   "execution_count": null,
   "source": "",
   "id": "ff8598a863c8edbd"
  }
 ],
 "metadata": {
  "kernelspec": {
   "display_name": "Python 3",
   "language": "python",
   "name": "python3"
  },
  "language_info": {
   "codemirror_mode": {
    "name": "ipython",
    "version": 2
   },
   "file_extension": ".py",
   "mimetype": "text/x-python",
   "name": "python",
   "nbconvert_exporter": "python",
   "pygments_lexer": "ipython2",
   "version": "2.7.6"
  }
 },
 "nbformat": 4,
 "nbformat_minor": 5
}
