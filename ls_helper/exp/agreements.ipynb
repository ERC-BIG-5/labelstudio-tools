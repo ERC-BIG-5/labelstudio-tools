{
 "cells": [
  {
   "cell_type": "code",
   "execution_count": 25,
   "id": "initial_id",
   "metadata": {
    "ExecuteTime": {
     "end_time": "2025-04-06T11:49:16.632235Z",
     "start_time": "2025-04-06T11:49:16.625619Z"
    },
    "collapsed": true
   },
   "outputs": [],
   "source": [
    "from ls_helper.new_models import get_p_access, platforms_overview, ProjectData\n",
    "\n",
    "twitter = \"twitter\"\n",
    "en = \"en\"\n",
    "tw_en = {\"platform\": twitter, \"language\": en}\n",
    "_default = tw_en\n",
    "\n",
    "po: ProjectData = platforms_overview.get_project(get_p_access(**_default))"
   ]
  },
  {
   "cell_type": "code",
   "execution_count": 26,
   "id": "1f4b92da4f28a8dc",
   "metadata": {
    "ExecuteTime": {
     "end_time": "2025-04-06T11:49:19.033287Z",
     "start_time": "2025-04-06T11:49:18.979667Z"
    }
   },
   "outputs": [],
   "source": [
    "aggree = po.get_agreement_data()"
   ]
  },
  {
   "cell_type": "code",
   "execution_count": 27,
   "id": "ff8598a863c8edbd",
   "metadata": {
    "ExecuteTime": {
     "end_time": "2025-04-06T11:49:20.233636Z",
     "start_time": "2025-04-06T11:49:20.228085Z"
    }
   },
   "outputs": [],
   "source": [
    "single_vis = aggree.agreement_metrics.single_choice.variables[\n",
    "    \"nep_materiality_visual\"\n",
    "]"
   ]
  },
  {
   "cell_type": "code",
   "execution_count": 28,
   "id": "ad919328ed589160",
   "metadata": {
    "ExecuteTime": {
     "end_time": "2025-04-06T11:49:21.884028Z",
     "start_time": "2025-04-06T11:49:21.874782Z"
    }
   },
   "outputs": [
    {
     "data": {
      "text/plain": [
       "{'kappa': 0.5884,\n",
       " 'gwet': 0.8063,\n",
       " 'percent_agreement': 0.8803,\n",
       " 'total_rows': 1295,\n",
       " 'agreement_count': 1140,\n",
       " 'disagreement_count': 155,\n",
       " 'counts': {'material': 348, 'immaterial': 254, 'NONE': 1684},\n",
       " 'option_results': {'material': {'error': None,\n",
       "   'kappa': -0.1666,\n",
       "   'gwet': 0.5296,\n",
       "   'percent_agreement': 0.6047,\n",
       "   'number': 215,\n",
       "   'agreement_count': 130,\n",
       "   'disagreement_count': 85,\n",
       "   'total_selections': 348,\n",
       "   'total_rows_selected': None,\n",
       "   'total_tasks_analyzed': None,\n",
       "   'all_present_count': None,\n",
       "   'all_absent_count': None,\n",
       "   'conflicts': None},\n",
       "  'immaterial': {'error': None,\n",
       "   'kappa': -0.2808,\n",
       "   'gwet': 0.2958,\n",
       "   'percent_agreement': 0.4457,\n",
       "   'number': 175,\n",
       "   'agreement_count': 78,\n",
       "   'disagreement_count': 97,\n",
       "   'total_selections': 254,\n",
       "   'total_rows_selected': None,\n",
       "   'total_tasks_analyzed': None,\n",
       "   'all_present_count': None,\n",
       "   'all_absent_count': None,\n",
       "   'conflicts': None},\n",
       "  'NONE': {'error': None,\n",
       "   'kappa': -0.4695,\n",
       "   'gwet': 0.8183,\n",
       "   'percent_agreement': 0.8784,\n",
       "   'number': 1061,\n",
       "   'agreement_count': 932,\n",
       "   'disagreement_count': 129,\n",
       "   'total_selections': 1684,\n",
       "   'total_rows_selected': None,\n",
       "   'total_tasks_analyzed': None,\n",
       "   'all_present_count': None,\n",
       "   'all_absent_count': None,\n",
       "   'conflicts': None}}}"
      ]
     },
     "execution_count": 28,
     "metadata": {},
     "output_type": "execute_result"
    }
   ],
   "source": [
    "single_vis.model_dump(exclude={\"conflicts\"})"
   ]
  },
  {
   "cell_type": "code",
   "execution_count": 29,
   "id": "65cb44f519394c1a",
   "metadata": {
    "ExecuteTime": {
     "end_time": "2025-04-06T11:49:33.004311Z",
     "start_time": "2025-04-06T11:49:24.252012Z"
    }
   },
   "outputs": [
    {
     "name": "stdout",
     "output_type": "stream",
     "text": [
      "Get recent, gets latest annotation\n"
     ]
    }
   ],
   "source": [
    "mp = po.get_raw_annotations_results(accepted_ann_age=20)\n",
    "rdf_ = mp.raw_annotation_df"
   ]
  },
  {
   "cell_type": "code",
   "execution_count": 30,
   "id": "f059623716dccd68",
   "metadata": {
    "ExecuteTime": {
     "end_time": "2025-04-06T11:49:35.216484Z",
     "start_time": "2025-04-06T11:49:35.209189Z"
    }
   },
   "outputs": [],
   "source": [
    "rdf = rdf_.copy()"
   ]
  },
  {
   "cell_type": "code",
   "execution_count": 31,
   "id": "85e1715cdec7f7d4",
   "metadata": {
    "ExecuteTime": {
     "end_time": "2025-04-06T11:49:38.074474Z",
     "start_time": "2025-04-06T11:49:38.041133Z"
    }
   },
   "outputs": [
    {
     "name": "stdout",
     "output_type": "stream",
     "text": [
      "Total nep_materiality_visual rows after filtering: 801\n",
      "Option counts:\n",
      "option\n",
      "material      462\n",
      "immaterial    339\n",
      "Name: count, dtype: int64\n",
      "Sum of material + immaterial: 801\n"
     ]
    },
    {
     "name": "stderr",
     "output_type": "stream",
     "text": [
      "/tmp/ipykernel_21878/1333088454.py:15: SettingWithCopyWarning: \n",
      "A value is trying to be set on a copy of a slice from a DataFrame.\n",
      "Try using .loc[row_indexer,col_indexer] = value instead\n",
      "\n",
      "See the caveats in the documentation: https://pandas.pydata.org/pandas-docs/stable/user_guide/indexing.html#returning-a-view-versus-a-copy\n",
      "  nep_mv_filtered['option'] = nep_mv_filtered['value'].apply(lambda x: x[0] if isinstance(x, list) and len(x) > 0 else x)\n"
     ]
    }
   ],
   "source": [
    "multi_annotator_tasks = rdf.groupby(\"task_id\")[\"ann_id\"].nunique()\n",
    "multi_annotator_tasks = multi_annotator_tasks[multi_annotator_tasks > 1].index\n",
    "\n",
    "# Filter raw dataframe\n",
    "filtered_df = rdf[rdf[\"task_id\"].isin(multi_annotator_tasks)]\n",
    "\n",
    "# Filter for nep_materiality_visual with all indices\n",
    "nep_mv_filtered = filtered_df[\n",
    "    filtered_df[\"category\"].str.match(r\"nep_materiality_visual_\\d+\")\n",
    "]\n",
    "\n",
    "# Count total rows after filtering\n",
    "print(\n",
    "    f\"Total nep_materiality_visual rows after filtering: {len(nep_mv_filtered)}\"\n",
    ")\n",
    "\n",
    "# Extract and count options (assuming values are stored as lists)\n",
    "# This handles values stored as lists ['option']\n",
    "nep_mv_filtered[\"option\"] = nep_mv_filtered[\"value\"].apply(\n",
    "    lambda x: x[0] if isinstance(x, list) and len(x) > 0 else x\n",
    ")\n",
    "\n",
    "# Count by option\n",
    "option_counts = nep_mv_filtered[\"option\"].value_counts()\n",
    "print(f\"Option counts:\\n{option_counts}\")\n",
    "\n",
    "# Sum of material and immaterial options\n",
    "if \"material\" in option_counts and \"immaterial\" in option_counts:\n",
    "    total = option_counts[\"material\"] + option_counts[\"immaterial\"]\n",
    "    print(f\"Sum of material + immaterial: {total}\")"
   ]
  },
  {
   "cell_type": "code",
   "execution_count": 33,
   "id": "2e095bb0f60933b7",
   "metadata": {
    "ExecuteTime": {
     "end_time": "2025-04-06T11:50:11.397860Z",
     "start_time": "2025-04-06T11:50:11.392227Z"
    }
   },
   "outputs": [
    {
     "data": {
      "text/plain": [
       "890"
      ]
     },
     "execution_count": 33,
     "metadata": {},
     "output_type": "execute_result"
    }
   ],
   "source": [
    "nep_mv = rdf[\n",
    "    rdf[\"category\"].isin([f\"nep_materiality_visual_{i}\" for i in range(0, 4)])\n",
    "]\n",
    "len(nep_mv)"
   ]
  },
  {
   "cell_type": "code",
   "execution_count": 20,
   "id": "c76c75b6cd204efb",
   "metadata": {
    "ExecuteTime": {
     "end_time": "2025-04-06T11:18:18.906301Z",
     "start_time": "2025-04-06T11:18:18.897930Z"
    }
   },
   "outputs": [
    {
     "data": {
      "text/plain": [
       "890"
      ]
     },
     "execution_count": 20,
     "metadata": {},
     "output_type": "execute_result"
    }
   ],
   "source": [
    "len(nep_mv)"
   ]
  },
  {
   "cell_type": "code",
   "execution_count": 34,
   "id": "2f80da38a4efbc00",
   "metadata": {
    "ExecuteTime": {
     "end_time": "2025-04-06T11:50:16.608309Z",
     "start_time": "2025-04-06T11:50:16.600734Z"
    }
   },
   "outputs": [
    {
     "data": {
      "text/plain": [
       "602"
      ]
     },
     "execution_count": 34,
     "metadata": {},
     "output_type": "execute_result"
    }
   ],
   "source": [
    "(\n",
    "    single_vis.option_results[\"material\"].total_selections\n",
    "    + single_vis.option_results[\"immaterial\"].total_selections\n",
    ")"
   ]
  },
  {
   "cell_type": "code",
   "execution_count": null,
   "id": "9f033c9b0017e6be",
   "metadata": {},
   "outputs": [],
   "source": []
  }
 ],
 "metadata": {
  "kernelspec": {
   "display_name": "Python 3",
   "language": "python",
   "name": "python3"
  },
  "language_info": {
   "codemirror_mode": {
    "name": "ipython",
    "version": 2
   },
   "file_extension": ".py",
   "mimetype": "text/x-python",
   "name": "python",
   "nbconvert_exporter": "python",
   "pygments_lexer": "ipython2",
   "version": "2.7.6"
  }
 },
 "nbformat": 4,
 "nbformat_minor": 5
}
