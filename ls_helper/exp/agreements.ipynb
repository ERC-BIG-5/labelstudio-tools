{
 "cells": [
  {
   "cell_type": "code",
   "id": "initial_id",
   "metadata": {
    "collapsed": true,
    "ExecuteTime": {
     "end_time": "2025-04-06T11:03:48.499436Z",
     "start_time": "2025-04-06T11:03:47.750319Z"
    }
   },
   "source": [
    "from ls_helper.new_models import get_p_access, platforms_overview2, ProjectData\n",
    "from ls_helper.settings import SETTINGS\n",
    "\n",
    "twitter = \"twitter\"\n",
    "en = \"en\"\n",
    "tw_en = {\"platform\": twitter, \"language\": en}\n",
    "_default = tw_en\n",
    "\n",
    "po: ProjectData = platforms_overview2.get_project(get_p_access(**_default))"
   ],
   "outputs": [],
   "execution_count": 1
  },
  {
   "metadata": {
    "ExecuteTime": {
     "end_time": "2025-04-06T11:05:05.807568Z",
     "start_time": "2025-04-06T11:05:05.756211Z"
    }
   },
   "cell_type": "code",
   "source": "aggree = po.get_agreement_data()",
   "id": "1f4b92da4f28a8dc",
   "outputs": [],
   "execution_count": 4
  },
  {
   "metadata": {
    "ExecuteTime": {
     "end_time": "2025-04-06T11:05:06.260418Z",
     "start_time": "2025-04-06T11:05:06.255191Z"
    }
   },
   "cell_type": "code",
   "source": "single_vis  =aggree.agreement_metrics.single_choice.variables[\"nep_materiality_visual\"]",
   "id": "ff8598a863c8edbd",
   "outputs": [],
   "execution_count": 5
  },
  {
   "metadata": {
    "ExecuteTime": {
     "end_time": "2025-04-06T11:05:31.377864Z",
     "start_time": "2025-04-06T11:05:31.368297Z"
    }
   },
   "cell_type": "code",
   "source": "single_vis.model_dump(exclude={\"conflicts\"})",
   "id": "ad919328ed589160",
   "outputs": [
    {
     "data": {
      "text/plain": [
       "{'kappa': 0.5884,\n",
       " 'gwet': 0.8063,\n",
       " 'percent_agreement': 0.8803,\n",
       " 'total_rows': 1295,\n",
       " 'agreement_count': 1140,\n",
       " 'disagreement_count': 155,\n",
       " 'counts': {'material': 348, 'immaterial': 254, 'NONE': 1684},\n",
       " 'option_results': {'material': {'error': None,\n",
       "   'kappa': -0.1666,\n",
       "   'gwet': 0.5296,\n",
       "   'percent_agreement': 0.6047,\n",
       "   'number': 215,\n",
       "   'agreement_count': 130,\n",
       "   'disagreement_count': 85,\n",
       "   'total_selections': 348,\n",
       "   'total_rows_selected': None,\n",
       "   'total_tasks_analyzed': None,\n",
       "   'all_present_count': None,\n",
       "   'all_absent_count': None,\n",
       "   'conflicts': None},\n",
       "  'immaterial': {'error': None,\n",
       "   'kappa': -0.2808,\n",
       "   'gwet': 0.2958,\n",
       "   'percent_agreement': 0.4457,\n",
       "   'number': 175,\n",
       "   'agreement_count': 78,\n",
       "   'disagreement_count': 97,\n",
       "   'total_selections': 254,\n",
       "   'total_rows_selected': None,\n",
       "   'total_tasks_analyzed': None,\n",
       "   'all_present_count': None,\n",
       "   'all_absent_count': None,\n",
       "   'conflicts': None},\n",
       "  'NONE': {'error': None,\n",
       "   'kappa': -0.4695,\n",
       "   'gwet': 0.8183,\n",
       "   'percent_agreement': 0.8784,\n",
       "   'number': 1061,\n",
       "   'agreement_count': 932,\n",
       "   'disagreement_count': 129,\n",
       "   'total_selections': 1684,\n",
       "   'total_rows_selected': None,\n",
       "   'total_tasks_analyzed': None,\n",
       "   'all_present_count': None,\n",
       "   'all_absent_count': None,\n",
       "   'conflicts': None}}}"
      ]
     },
     "execution_count": 7,
     "metadata": {},
     "output_type": "execute_result"
    }
   ],
   "execution_count": 7
  },
  {
   "metadata": {
    "ExecuteTime": {
     "end_time": "2025-04-06T11:19:45.199889Z",
     "start_time": "2025-04-06T11:19:34.452725Z"
    }
   },
   "cell_type": "code",
   "source": [
    "mp = po.create_annotations_results(accepted_ann_age=20)\n",
    "rdf_ = mp.raw_annotation_df"
   ],
   "id": "65cb44f519394c1a",
   "outputs": [
    {
     "name": "stdout",
     "output_type": "stream",
     "text": [
      "Get recent, gets latest annotation\n"
     ]
    }
   ],
   "execution_count": 21
  },
  {
   "metadata": {
    "ExecuteTime": {
     "end_time": "2025-04-06T11:19:58.110385Z",
     "start_time": "2025-04-06T11:19:58.104310Z"
    }
   },
   "cell_type": "code",
   "source": "rdf = rdf_.copy()",
   "id": "f059623716dccd68",
   "outputs": [],
   "execution_count": 22
  },
  {
   "metadata": {
    "ExecuteTime": {
     "end_time": "2025-04-06T11:20:07.013335Z",
     "start_time": "2025-04-06T11:20:06.982766Z"
    }
   },
   "cell_type": "code",
   "source": [
    "multi_annotator_tasks = rdf.groupby('task_id')['ann_id'].nunique()\n",
    "multi_annotator_tasks = multi_annotator_tasks[multi_annotator_tasks > 1].index\n",
    "\n",
    "# Filter raw dataframe\n",
    "filtered_df = rdf[rdf['task_id'].isin(multi_annotator_tasks)]\n",
    "\n",
    "# Filter for nep_materiality_visual with all indices\n",
    "nep_mv_filtered = filtered_df[filtered_df[\"category\"].str.match(r\"nep_materiality_visual_\\d+\")]\n",
    "\n",
    "# Count total rows after filtering\n",
    "print(f\"Total nep_materiality_visual rows after filtering: {len(nep_mv_filtered)}\")\n",
    "\n",
    "# Extract and count options (assuming values are stored as lists)\n",
    "# This handles values stored as lists ['option']\n",
    "nep_mv_filtered['option'] = nep_mv_filtered['value'].apply(lambda x: x[0] if isinstance(x, list) and len(x) > 0 else x)\n",
    "\n",
    "# Count by option\n",
    "option_counts = nep_mv_filtered['option'].value_counts()\n",
    "print(f\"Option counts:\\n{option_counts}\")\n",
    "\n",
    "# Sum of material and immaterial options\n",
    "if 'material' in option_counts and 'immaterial' in option_counts:\n",
    "    total = option_counts['material'] + option_counts['immaterial']\n",
    "    print(f\"Sum of material + immaterial: {total}\")"
   ],
   "id": "85e1715cdec7f7d4",
   "outputs": [
    {
     "name": "stdout",
     "output_type": "stream",
     "text": [
      "Total nep_materiality_visual rows after filtering: 801\n",
      "Option counts:\n",
      "option\n",
      "material      462\n",
      "immaterial    339\n",
      "Name: count, dtype: int64\n",
      "Sum of material + immaterial: 801\n"
     ]
    },
    {
     "name": "stderr",
     "output_type": "stream",
     "text": [
      "/tmp/ipykernel_21878/1333088454.py:15: SettingWithCopyWarning: \n",
      "A value is trying to be set on a copy of a slice from a DataFrame.\n",
      "Try using .loc[row_indexer,col_indexer] = value instead\n",
      "\n",
      "See the caveats in the documentation: https://pandas.pydata.org/pandas-docs/stable/user_guide/indexing.html#returning-a-view-versus-a-copy\n",
      "  nep_mv_filtered['option'] = nep_mv_filtered['value'].apply(lambda x: x[0] if isinstance(x, list) and len(x) > 0 else x)\n"
     ]
    }
   ],
   "execution_count": 23
  },
  {
   "metadata": {
    "ExecuteTime": {
     "end_time": "2025-04-06T11:20:25.726641Z",
     "start_time": "2025-04-06T11:20:25.700799Z"
    }
   },
   "cell_type": "code",
   "source": [
    "nep_mv = rdf[rdf[\"category\"].isin([f\"nep_materiality_visual_{i}\" for i in range(0,4)])]\n",
    "nep_mv"
   ],
   "id": "2e095bb0f60933b7",
   "outputs": [
    {
     "data": {
      "text/plain": [
       "       task_id  ann_id  user_id          platform_id  \\\n",
       "93        9343    7932        7  1672032720052944899   \n",
       "106       9343    7985       17  1672032720052944899   \n",
       "121       9343    7998       15  1672032720052944899   \n",
       "173       9346    7989       16  1672455505879392264   \n",
       "187       9346    7993       17  1672455505879392264   \n",
       "...        ...     ...      ...                  ...   \n",
       "16871    10717    8957       42  1669737596921040897   \n",
       "16882    10717    9960        7  1669737596921040897   \n",
       "16903    10713    9128       42  1669133617098891265   \n",
       "16911    10713    9963        7  1669133617098891265   \n",
       "16934    10711   10167       10  1668846726621413376   \n",
       "\n",
       "                                    ts    type                  category  \\\n",
       "93    2025-03-27 12:06:59.106898+00:00  single  nep_materiality_visual_0   \n",
       "106   2025-03-31 08:45:57.009543+00:00  single  nep_materiality_visual_0   \n",
       "121   2025-03-31 08:48:03.061683+00:00  single  nep_materiality_visual_0   \n",
       "173   2025-03-31 08:46:33.992908+00:00  single  nep_materiality_visual_0   \n",
       "187   2025-03-31 08:46:59.567440+00:00  single  nep_materiality_visual_0   \n",
       "...                                ...     ...                       ...   \n",
       "16871 2025-04-01 13:10:55.167482+00:00  single  nep_materiality_visual_0   \n",
       "16882 2025-04-03 17:09:40.972964+00:00  single  nep_materiality_visual_0   \n",
       "16903 2025-04-01 14:19:03.585533+00:00  single  nep_materiality_visual_0   \n",
       "16911 2025-04-03 17:10:28.402389+00:00  single  nep_materiality_visual_0   \n",
       "16934 2025-04-03 18:49:48.622564+00:00  single  nep_materiality_visual_0   \n",
       "\n",
       "              value  \n",
       "93       [material]  \n",
       "106      [material]  \n",
       "121      [material]  \n",
       "173      [material]  \n",
       "187    [immaterial]  \n",
       "...             ...  \n",
       "16871  [immaterial]  \n",
       "16882  [immaterial]  \n",
       "16903  [immaterial]  \n",
       "16911  [immaterial]  \n",
       "16934  [immaterial]  \n",
       "\n",
       "[890 rows x 8 columns]"
      ],
      "text/html": [
       "<div>\n",
       "<style scoped>\n",
       "    .dataframe tbody tr th:only-of-type {\n",
       "        vertical-align: middle;\n",
       "    }\n",
       "\n",
       "    .dataframe tbody tr th {\n",
       "        vertical-align: top;\n",
       "    }\n",
       "\n",
       "    .dataframe thead th {\n",
       "        text-align: right;\n",
       "    }\n",
       "</style>\n",
       "<table border=\"1\" class=\"dataframe\">\n",
       "  <thead>\n",
       "    <tr style=\"text-align: right;\">\n",
       "      <th></th>\n",
       "      <th>task_id</th>\n",
       "      <th>ann_id</th>\n",
       "      <th>user_id</th>\n",
       "      <th>platform_id</th>\n",
       "      <th>ts</th>\n",
       "      <th>type</th>\n",
       "      <th>category</th>\n",
       "      <th>value</th>\n",
       "    </tr>\n",
       "  </thead>\n",
       "  <tbody>\n",
       "    <tr>\n",
       "      <th>93</th>\n",
       "      <td>9343</td>\n",
       "      <td>7932</td>\n",
       "      <td>7</td>\n",
       "      <td>1672032720052944899</td>\n",
       "      <td>2025-03-27 12:06:59.106898+00:00</td>\n",
       "      <td>single</td>\n",
       "      <td>nep_materiality_visual_0</td>\n",
       "      <td>[material]</td>\n",
       "    </tr>\n",
       "    <tr>\n",
       "      <th>106</th>\n",
       "      <td>9343</td>\n",
       "      <td>7985</td>\n",
       "      <td>17</td>\n",
       "      <td>1672032720052944899</td>\n",
       "      <td>2025-03-31 08:45:57.009543+00:00</td>\n",
       "      <td>single</td>\n",
       "      <td>nep_materiality_visual_0</td>\n",
       "      <td>[material]</td>\n",
       "    </tr>\n",
       "    <tr>\n",
       "      <th>121</th>\n",
       "      <td>9343</td>\n",
       "      <td>7998</td>\n",
       "      <td>15</td>\n",
       "      <td>1672032720052944899</td>\n",
       "      <td>2025-03-31 08:48:03.061683+00:00</td>\n",
       "      <td>single</td>\n",
       "      <td>nep_materiality_visual_0</td>\n",
       "      <td>[material]</td>\n",
       "    </tr>\n",
       "    <tr>\n",
       "      <th>173</th>\n",
       "      <td>9346</td>\n",
       "      <td>7989</td>\n",
       "      <td>16</td>\n",
       "      <td>1672455505879392264</td>\n",
       "      <td>2025-03-31 08:46:33.992908+00:00</td>\n",
       "      <td>single</td>\n",
       "      <td>nep_materiality_visual_0</td>\n",
       "      <td>[material]</td>\n",
       "    </tr>\n",
       "    <tr>\n",
       "      <th>187</th>\n",
       "      <td>9346</td>\n",
       "      <td>7993</td>\n",
       "      <td>17</td>\n",
       "      <td>1672455505879392264</td>\n",
       "      <td>2025-03-31 08:46:59.567440+00:00</td>\n",
       "      <td>single</td>\n",
       "      <td>nep_materiality_visual_0</td>\n",
       "      <td>[immaterial]</td>\n",
       "    </tr>\n",
       "    <tr>\n",
       "      <th>...</th>\n",
       "      <td>...</td>\n",
       "      <td>...</td>\n",
       "      <td>...</td>\n",
       "      <td>...</td>\n",
       "      <td>...</td>\n",
       "      <td>...</td>\n",
       "      <td>...</td>\n",
       "      <td>...</td>\n",
       "    </tr>\n",
       "    <tr>\n",
       "      <th>16871</th>\n",
       "      <td>10717</td>\n",
       "      <td>8957</td>\n",
       "      <td>42</td>\n",
       "      <td>1669737596921040897</td>\n",
       "      <td>2025-04-01 13:10:55.167482+00:00</td>\n",
       "      <td>single</td>\n",
       "      <td>nep_materiality_visual_0</td>\n",
       "      <td>[immaterial]</td>\n",
       "    </tr>\n",
       "    <tr>\n",
       "      <th>16882</th>\n",
       "      <td>10717</td>\n",
       "      <td>9960</td>\n",
       "      <td>7</td>\n",
       "      <td>1669737596921040897</td>\n",
       "      <td>2025-04-03 17:09:40.972964+00:00</td>\n",
       "      <td>single</td>\n",
       "      <td>nep_materiality_visual_0</td>\n",
       "      <td>[immaterial]</td>\n",
       "    </tr>\n",
       "    <tr>\n",
       "      <th>16903</th>\n",
       "      <td>10713</td>\n",
       "      <td>9128</td>\n",
       "      <td>42</td>\n",
       "      <td>1669133617098891265</td>\n",
       "      <td>2025-04-01 14:19:03.585533+00:00</td>\n",
       "      <td>single</td>\n",
       "      <td>nep_materiality_visual_0</td>\n",
       "      <td>[immaterial]</td>\n",
       "    </tr>\n",
       "    <tr>\n",
       "      <th>16911</th>\n",
       "      <td>10713</td>\n",
       "      <td>9963</td>\n",
       "      <td>7</td>\n",
       "      <td>1669133617098891265</td>\n",
       "      <td>2025-04-03 17:10:28.402389+00:00</td>\n",
       "      <td>single</td>\n",
       "      <td>nep_materiality_visual_0</td>\n",
       "      <td>[immaterial]</td>\n",
       "    </tr>\n",
       "    <tr>\n",
       "      <th>16934</th>\n",
       "      <td>10711</td>\n",
       "      <td>10167</td>\n",
       "      <td>10</td>\n",
       "      <td>1668846726621413376</td>\n",
       "      <td>2025-04-03 18:49:48.622564+00:00</td>\n",
       "      <td>single</td>\n",
       "      <td>nep_materiality_visual_0</td>\n",
       "      <td>[immaterial]</td>\n",
       "    </tr>\n",
       "  </tbody>\n",
       "</table>\n",
       "<p>890 rows × 8 columns</p>\n",
       "</div>"
      ]
     },
     "execution_count": 24,
     "metadata": {},
     "output_type": "execute_result"
    }
   ],
   "execution_count": 24
  },
  {
   "metadata": {
    "ExecuteTime": {
     "end_time": "2025-04-06T11:18:18.906301Z",
     "start_time": "2025-04-06T11:18:18.897930Z"
    }
   },
   "cell_type": "code",
   "source": "len(nep_mv)",
   "id": "c76c75b6cd204efb",
   "outputs": [
    {
     "data": {
      "text/plain": [
       "890"
      ]
     },
     "execution_count": 20,
     "metadata": {},
     "output_type": "execute_result"
    }
   ],
   "execution_count": 20
  },
  {
   "metadata": {
    "ExecuteTime": {
     "end_time": "2025-04-06T11:12:07.034090Z",
     "start_time": "2025-04-06T11:12:07.027557Z"
    }
   },
   "cell_type": "code",
   "source": "single_vis.option_results[\"material\"].total_selections + single_vis.option_results[\"immaterial\"].total_selections",
   "id": "2f80da38a4efbc00",
   "outputs": [
    {
     "data": {
      "text/plain": [
       "602"
      ]
     },
     "execution_count": 16,
     "metadata": {},
     "output_type": "execute_result"
    }
   ],
   "execution_count": 16
  },
  {
   "metadata": {},
   "cell_type": "code",
   "outputs": [],
   "execution_count": null,
   "source": "",
   "id": "9f033c9b0017e6be"
  }
 ],
 "metadata": {
  "kernelspec": {
   "display_name": "Python 3",
   "language": "python",
   "name": "python3"
  },
  "language_info": {
   "codemirror_mode": {
    "name": "ipython",
    "version": 2
   },
   "file_extension": ".py",
   "mimetype": "text/x-python",
   "name": "python",
   "nbconvert_exporter": "python",
   "pygments_lexer": "ipython2",
   "version": "2.7.6"
  }
 },
 "nbformat": 4,
 "nbformat_minor": 5
}
